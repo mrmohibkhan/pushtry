{
 "cells": [
  {
   "cell_type": "code",
   "execution_count": 1,
   "id": "555659af-365f-44e2-b128-c3f73cee9a07",
   "metadata": {},
   "outputs": [
    {
     "name": "stdout",
     "output_type": "stream",
     "text": [
      "thanks adeem\n"
     ]
    }
   ],
   "source": [
    "print(\"thanks adeem\")"
   ]
  },
  {
   "cell_type": "code",
   "execution_count": null,
   "id": "8db44a3f-6348-4cc3-abea-8bf9bdc1ddc7",
   "metadata": {},
   "outputs": [],
   "source": []
  }
 ],
 "metadata": {
  "kernelspec": {
   "display_name": "Python 3 (ipykernel)",
   "language": "python",
   "name": "python3"
  },
  "language_info": {
   "codemirror_mode": {
    "name": "ipython",
    "version": 3
   },
   "file_extension": ".py",
   "mimetype": "text/x-python",
   "name": "python",
   "nbconvert_exporter": "python",
   "pygments_lexer": "ipython3",
   "version": "3.12.2"
  }
 },
 "nbformat": 4,
 "nbformat_minor": 5
}
