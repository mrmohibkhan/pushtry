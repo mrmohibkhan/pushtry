{
 "cells": [
  {
   "cell_type": "code",
   "execution_count": 1,
   "id": "f2de7ff6-e37f-4efd-9ab5-e34f3d927538",
   "metadata": {},
   "outputs": [
    {
     "name": "stdout",
     "output_type": "stream",
     "text": [
      "ali\n"
     ]
    }
   ],
   "source": [
    "x=\"ali\"\n",
    "print(x)"
   ]
  },
  {
   "cell_type": "code",
   "execution_count": 18,
   "id": "a6b6604a-94d1-4d68-90ff-d3d32b67d7a5",
   "metadata": {},
   "outputs": [
    {
     "name": "stdout",
     "output_type": "stream",
     "text": [
      "['ali', 'Khan', 'MAlik']\n",
      "['ali', 'Khan', 'MAlik', 'jan', 'ahemed']\n",
      "['Khan', 'MAlik', 'ahemed', 'ali', 'jan']\n",
      "Khan\n",
      "MAlik\n",
      "ahemed\n",
      "ali\n",
      "jan\n",
      "second item is Khan\n",
      "['jan', 'ali', 'ahemed', 'MAlik', 'Khan']\n"
     ]
    }
   ],
   "source": [
    "x=[\"ali\", \"Khan\", \"MAlik\"]\n",
    "print(x)\n",
    "x.append(\"jan\")\n",
    "x.append(\"ahemed\")\n",
    "print(x)\n",
    "x.sort()\n",
    "print(x)\n",
    "for item in x:\n",
    "    print(item)\n",
    "\n",
    "print(\"second item is\", x[0])\n",
    "\n",
    "print(x[::-1])"
   ]
  },
  {
   "cell_type": "code",
   "execution_count": 44,
   "id": "782b002e-9e21-4967-a031-ae9ff6be5aaf",
   "metadata": {},
   "outputs": [
    {
     "name": "stdout",
     "output_type": "stream",
     "text": [
      "Sam\n",
      "Luke\n",
      "Ariana\n",
      "Tim\n",
      "Peter\n",
      "Samantha\n",
      "Samantha\n",
      "Peter\n",
      "Tim\n",
      "Ariana\n",
      "Luke\n",
      "Sam\n"
     ]
    }
   ],
   "source": [
    "friends_list = [\"Sam\", \"Luke\", \"Ariana\", \"Tim\", \"Peter\", \"Samantha\"]\n",
    "for item in friends_list:\n",
    " print(item)\n",
    "#print(friends_list[::-1])\n",
    "\n",
    "for x in range (len(friends_list) -1,-1,-1):\n",
    "    print(friends_list[x])"
   ]
  },
  {
   "cell_type": "code",
   "execution_count": 32,
   "id": "b3ada477-824e-451b-87cd-495c08108a77",
   "metadata": {},
   "outputs": [
    {
     "name": "stdout",
     "output_type": "stream",
     "text": [
      "{'a': 1, 'b': 32, 'c': 2, 'd': 4}\n",
      "2\n"
     ]
    }
   ],
   "source": [
    "dic={\"a\":1, \"b\":32, \"c\":2, \"d\":4}\n",
    "print(dic)\n",
    "print(dic[\"c\"])"
   ]
  },
  {
   "cell_type": "code",
   "execution_count": 56,
   "id": "bb23054a-760f-4693-9071-42fb3ef0628a",
   "metadata": {},
   "outputs": [
    {
     "name": "stdout",
     "output_type": "stream",
     "text": [
      "{'NSW': 'Sydney', 'VIC': 'Melbourne', 'SA': 'Adelaide', 'WA': 'Perth', 'QLD': 'Brisbane'}\n",
      "Melbourne\n"
     ]
    }
   ],
   "source": [
    "capital = {'NSW': 'Sydney', 'VIC': 'Melbourne', 'SA': 'Adelaide', 'WA': 'Perth', 'QLD': 'Brisbane'}\n",
    "print(capital)\n",
    "print(capital[\"VIC\"])\n",
    "#print(capital[::-1])"
   ]
  },
  {
   "cell_type": "code",
   "execution_count": 54,
   "id": "0ccbd090-7b87-4e9f-9718-a0f9807a23d6",
   "metadata": {},
   "outputs": [
    {
     "name": "stdout",
     "output_type": "stream",
     "text": [
      "John Citizen 37 Sydney Street, NSW\n",
      "value not in the list\n",
      "age\n"
     ]
    }
   ],
   "source": [
    "employee = {'name': 'John Citizen', 'age': 47, 'Address': '37 Sydney Street, NSW'}\n",
    "print(employee[\"name\"],employee[\"Address\"])\n",
    "for key, value in employee.items():\n",
    "    if value == 47:\n",
    "        print(key)\n",
    "        break\n",
    "    else:\n",
    "        print(\"value not in the list\")"
   ]
  },
  {
   "cell_type": "code",
   "execution_count": 52,
   "id": "0018ec75-b9f2-4f81-b57b-b927d731842e",
   "metadata": {},
   "outputs": [
    {
     "name": "stdout",
     "output_type": "stream",
     "text": [
      "Key associated with the value 47 is: age\n"
     ]
    }
   ],
   "source": [
    "employee = {'name': 'John Citizen', 'age': 47, 'Address': '37 Sydney Street, NSW'}\n",
    "\n",
    "# Iterate over the items in the dictionary\n",
    "for key, value in employee.items():\n",
    "    if value == 47:\n",
    "        print(\"Key associated with the value 47 is:\", key)\n",
    "        break  # Stop iterating once the key is found\n",
    "else:\n",
    "    print(\"Value 47 is not associated with any key in the dictionary\")"
   ]
  },
  {
   "cell_type": "code",
   "execution_count": 58,
   "id": "92123c6e-b555-46e7-9ba8-5e00a4b79671",
   "metadata": {},
   "outputs": [
    {
     "name": "stdout",
     "output_type": "stream",
     "text": [
      "72\n"
     ]
    }
   ],
   "source": [
    "unit_marks = {'COMP8325': 88, 'COMP2345': 92, 'ISYS545': 72, 'COMP8472': 85}\n",
    "print(unit_marks[\"ISYS545\"])"
   ]
  },
  {
   "cell_type": "code",
   "execution_count": 87,
   "id": "b72c47bd-55fc-49c6-bd5f-19d22a4c55ec",
   "metadata": {},
   "outputs": [
    {
     "name": "stdout",
     "output_type": "stream",
     "text": [
      "length of code is  8\n",
      "length of title is  58\n",
      "length of description is  414\n",
      "48\n",
      "comp8325\n",
      "APPLICATIONS OF ARTIFICIAL INTELLIGENCE FOR CYBER SECURITY\n",
      "Th!is ?is a$ s@en!!te?!nce.\n"
     ]
    }
   ],
   "source": [
    "def func(sentence):\n",
    "    words=sentence.split()\n",
    "    word_count = len(words)\n",
    "    print(word_count)\n",
    "    return word_count\n",
    "\n",
    "\n",
    "code = \"COMP8325\"\n",
    "title = \"Applications of Artificial Intelligence for Cyber Security\"\n",
    "sentence = \"\"\"This unit deals with the applications of Artificial Intelligence \n",
    "                in the field of Cyber Security. Topics covered include machine learning-based \n",
    "                intrusion detection systems, malware detection, AI as a service, digital forensics, \n",
    "                incident response leveraging SIEM data. Special attention will be given to the \n",
    "                concept of adversarial machine learning.\"\"\"\n",
    "print(\"length of code is \", len(code))\n",
    "print(\"length of title is \", len(title))\n",
    "print(\"length of description is \", len(sentence))\n",
    "#word_count=func(sentence)\n",
    "#print(word_count)\n",
    "w=sentence.split()\n",
    "wc=len(w)\n",
    "#print(w)\n",
    "print(wc)\n",
    "print(code.lower())\n",
    "print(title.upper())\n",
    "\n",
    "noisy_string = \"Th!is ?is a$ s@en!!te?!nce.\"\n",
    "print(noisy_string)\n",
    "\n"
   ]
  },
  {
   "cell_type": "code",
   "execution_count": null,
   "id": "e66017c8-f396-4112-ac2a-123538134071",
   "metadata": {},
   "outputs": [],
   "source": []
  },
  {
   "cell_type": "code",
   "execution_count": 104,
   "id": "be2e1045-0e08-4e47-bc80-ea7e2ec039ec",
   "metadata": {},
   "outputs": [
    {
     "name": "stdout",
     "output_type": "stream",
     "text": [
      "92\n",
      "1809\n",
      "Alone\n",
      "And\n",
      "Black\n",
      "Earth\n",
      "Even\n",
      "Frisbees.\n",
      "Hotel\n",
      "I\n",
      "Later,\n",
      "When\n",
      "With\n",
      "about\n",
      "accounted\n",
      "acquired\n",
      "across\n",
      "affection.\n",
      "after\n",
      "all\n",
      "aloofness\n",
      "always\n",
      "and\n",
      "another\n",
      "as\n",
      "at\n",
      "attentiveness\n",
      "attire\n",
      "back\n",
      "beauty\n",
      "between\n",
      "black-and-white\n",
      "bridge\n",
      "brings\n",
      "brought\n",
      "buffet,\n",
      "bus-station\n",
      "buses.\n",
      "but\n",
      "bе\n",
      "bу\n",
      "clothes\n",
      "color.\n",
      "combination\n",
      "components\n",
      "composure.\n",
      "contact,\n",
      "cook,\n",
      "day\n",
      "day,\n",
      "departing\n",
      "desire\n",
      "difference\n",
      "dishes\n",
      "dishes,\n",
      "distance,\n",
      "doesn’t\n",
      "doors,\n",
      "dry\n",
      "during\n",
      "duty,\n",
      "even\n",
      "finally\n",
      "foot\n",
      "for\n",
      "full\n",
      "graceful\n",
      "gray\n",
      "guest,\n",
      "guests\n",
      "had\n",
      "hand,\n",
      "have\n",
      "he\n",
      "help\n",
      "him\n",
      "him,\n",
      "his\n",
      "holding\n",
      "hotel\n",
      "image,\n",
      "in\n",
      "into\n",
      "it\n",
      "kept\n",
      "kind\n",
      "kitchen\n",
      "last\n",
      "least\n",
      "left\n",
      "lifе\n",
      "like\n",
      "looked\n",
      "love.\n",
      "man\n",
      "many\n",
      "may\n",
      "me.\n",
      "midnight,\n",
      "missed\n",
      "moment\n",
      "more\n",
      "moved\n",
      "movement\n",
      "much,\n",
      "munching\n",
      "my\n",
      "near\n",
      "no\n",
      "now\n",
      "nо\n",
      "of\n",
      "off\n",
      "off.\n",
      "on\n",
      "one\n",
      "only\n",
      "open\n",
      "or\n",
      "out\n",
      "over\n",
      "passed\n",
      "perhaps\n",
      "pile\n",
      "poise\n",
      "poise;\n",
      "predicament,\n",
      "railing\n",
      "raincoat\n",
      "ran\n",
      "realize,\n",
      "reappeared,\n",
      "regain\n",
      "resting\n",
      "right\n",
      "role\n",
      "room\n",
      "rооm\n",
      "sailing\n",
      "sausage\n",
      "saw\n",
      "sense\n",
      "sent\n",
      "shirtsleeves\n",
      "sitting\n",
      "slowly\n",
      "smooth\n",
      "so\n",
      "standing\n",
      "street\n",
      "suit\n",
      "tablecloth\n",
      "than\n",
      "that\n",
      "the\n",
      "them\n",
      "them.\n",
      "there\n",
      "think\n",
      "this\n",
      "thought\n",
      "to\n",
      "today,\n",
      "too,\n",
      "took\n",
      "torrent,\n",
      "tub\n",
      "under\n",
      "using\n",
      "usually\n",
      "waiter\n",
      "waiter’s\n",
      "wanted\n",
      "was\n",
      "watching\n",
      "water\n",
      "way\n",
      "were\n",
      "when\n",
      "while\n",
      "window,\n",
      "with\n",
      "young\n",
      "Не\n",
      "Оnе\n",
      "Тoward\n",
      "а\n",
      "аbout\n",
      "аnd\n",
      "аrm,\n",
      "аrm.\n",
      "оn\n",
      "оnе\n",
      "раrеnts;\n",
      "–\n",
      "10\n"
     ]
    }
   ],
   "source": [
    "text = \"\"\"Alone during the day, in my room or out of doors, I thought аbout the waiter more \n",
    "          than about my раrеnts; as I now realize, it was а kind of love. I had nо desire for \n",
    "          contact, I wanted only to bе near him, and I missed him on his day off. When he finally \n",
    "          reappeared, his black-and-white attire brought lifе into the rооm and I acquired а sense \n",
    "          of color. Не always kept his distance, even when off duty, and that may have accounted for \n",
    "          my affection. Оnе day I ran into him in his street clothes at the bus-station buffet, \n",
    "          now in the role of а guest, and there was no difference between the waiter at the hotel \n",
    "          and the young man in the gray suit with а raincoat over his аrm, resting оnе foot on the \n",
    "          railing and slowly munching а sausage while watching the departing buses. And perhaps \n",
    "          this aloofness in combination with his attentiveness аnd poise were the components of \n",
    "          the beauty that so moved me. Even today, in а predicament, I think about that waiter’s \n",
    "          poise; it doesn’t usually help much, but it brings back his image, and for the moment at \n",
    "          least I regain my composure.\n",
    "          \n",
    "          Тoward midnight, оn my last day in the Black Earth Hotel – all the guests and the cook, too, \n",
    "          had left – I passed the open kitchen on my way to my room аnd saw the waiter sitting bу а \n",
    "          tub full of dishes, using а tablecloth to dry them. Later, when I looked out of my window, \n",
    "          he was standing in his shirtsleeves on the bridge across the torrent, holding а pile of \n",
    "          dishes under his right аrm. With his left hand, he took one after another and with а smooth \n",
    "          graceful movement sent them sailing into the water like so many Frisbees.\"\"\"\n",
    "c=0\n",
    "for ch in text:\n",
    "    if ch==\"a\":\n",
    "     c=c+1\n",
    "\n",
    "print (c)\n",
    "print(len(text))\n",
    "a=0\n",
    "words=text.split()\n",
    "unique_words = set(words)\n",
    "sw=sorted(unique_words)\n",
    "for y in sw:\n",
    "    print(y)\n",
    "sam=\"his\"\n",
    "for x in words:\n",
    "    if x.lower()==sam.lower():\n",
    "     a=a+1\n",
    "\n",
    "print(a)"
   ]
  },
  {
   "cell_type": "code",
   "execution_count": 1,
   "id": "d873d422-1843-4a19-91f9-adca9eb20d71",
   "metadata": {},
   "outputs": [
    {
     "name": "stdout",
     "output_type": "stream",
     "text": [
      "heloo\n"
     ]
    }
   ],
   "source": [
    "print(\"heloo\")"
   ]
  },
  {
   "cell_type": "code",
   "execution_count": null,
   "id": "68142762-2dd6-41a0-b3c7-32fe46cf3037",
   "metadata": {},
   "outputs": [],
   "source": []
  }
 ],
 "metadata": {
  "kernelspec": {
   "display_name": "Python 3 (ipykernel)",
   "language": "python",
   "name": "python3"
  },
  "language_info": {
   "codemirror_mode": {
    "name": "ipython",
    "version": 3
   },
   "file_extension": ".py",
   "mimetype": "text/x-python",
   "name": "python",
   "nbconvert_exporter": "python",
   "pygments_lexer": "ipython3",
   "version": "3.12.2"
  }
 },
 "nbformat": 4,
 "nbformat_minor": 5
}
