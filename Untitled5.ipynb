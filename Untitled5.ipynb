{
 "cells": [
  {
   "cell_type": "code",
   "execution_count": 2,
   "id": "65919e14-381d-4572-9562-ba07ea91d0c6",
   "metadata": {},
   "outputs": [
    {
     "name": "stdout",
     "output_type": "stream",
     "text": [
      "hello\n"
     ]
    }
   ],
   "source": [
    "print(\"hello\")\n"
   ]
  },
  {
   "cell_type": "code",
   "execution_count": 9,
   "id": "a9dbdf59-f429-4efa-8b4b-664a149a4318",
   "metadata": {},
   "outputs": [
    {
     "name": "stdout",
     "output_type": "stream",
     "text": [
      "1\n",
      "2\n",
      "8\n",
      "3\n",
      "5\n"
     ]
    }
   ],
   "source": [
    "x=[1,2,8,3,5]\n",
    "for e in x:\n",
    " print(e)"
   ]
  },
  {
   "cell_type": "code",
   "execution_count": 7,
   "id": "dfe6a9d7-0dff-4e0c-81a7-df1f07d720ce",
   "metadata": {},
   "outputs": [
    {
     "name": "stdout",
     "output_type": "stream",
     "text": [
      "1\n",
      "2\n",
      "3\n",
      "4\n",
      "5\n"
     ]
    }
   ],
   "source": [
    "# Define an array of numbers\n",
    "numbers = [1, 2, 3, 4, 5]\n",
    "\n",
    "# Iterate over each number in the array using a for loop\n",
    "for number in numbers:\n",
    "    print(number)"
   ]
  },
  {
   "cell_type": "code",
   "execution_count": 16,
   "id": "ef1400aa-9ffd-4343-a803-0abddfef4dd8",
   "metadata": {},
   "outputs": [
    {
     "name": "stdout",
     "output_type": "stream",
     "text": [
      "9\n",
      "8\n",
      "6\n",
      "4\n",
      "1\n",
      "4\n",
      "2\n"
     ]
    }
   ],
   "source": [
    "w=[2,4,1,4,6,8,9]\n",
    "#for s in reversed(w):\n",
    "   # print(s)\n",
    "for m in range(len(w) - 1, -1, -1):\n",
    "    print(w[m])\n",
    "    "
   ]
  },
  {
   "cell_type": "code",
   "execution_count": 29,
   "id": "047e44f4-88d9-4c9c-9035-4ee9d65a9770",
   "metadata": {},
   "outputs": [
    {
     "name": "stdout",
     "output_type": "stream",
     "text": [
      "['mohib', 'ali', 'yousaf', 'khan']\n",
      "khan\n",
      "mohib\n",
      "ali\n",
      "yousaf\n",
      "khan\n",
      "yousaf\n",
      "mohib\n",
      "ali\n",
      "yousaf\n",
      "khan\n",
      "ali\n",
      "mohib\n",
      "ali\n",
      "yousaf\n",
      "khan\n",
      "mohib\n",
      "mohib\n",
      "ali\n",
      "yousaf\n",
      "khan\n"
     ]
    }
   ],
   "source": [
    "x=[\"mohib\", \"ali\", \"yousaf\", \"khan\"]\n",
    "print(x)\n",
    "for w in range(len(x) -1, -1, -1):\n",
    "    print(x[w])\n",
    "    for s in range(len(x)):\n",
    "        print(x[s])"
   ]
  },
  {
   "cell_type": "code",
   "execution_count": 21,
   "id": "2f49953b-a201-4f8f-afb4-dc7ce1cc9949",
   "metadata": {},
   "outputs": [
    {
     "name": "stdout",
     "output_type": "stream",
     "text": [
      "mohib\n",
      "ali\n",
      "yousaf\n",
      "khan\n",
      "khan\n",
      "yousaf\n",
      "ali\n",
      "mohib\n"
     ]
    }
   ],
   "source": [
    "x = [\"mohib\", \"ali\", \"yousaf\", \"khan\"]\n",
    "for w in x:\n",
    "    print(w)\n",
    "for w in range(len(x) - 1, -1, -1):\n",
    "    print(x[w])"
   ]
  },
  {
   "cell_type": "code",
   "execution_count": 33,
   "id": "69bbf0a2-73aa-4888-a938-601cd170d5dc",
   "metadata": {},
   "outputs": [
    {
     "name": "stdout",
     "output_type": "stream",
     "text": [
      "[[1 2 3]\n",
      " [4 5 6]]\n"
     ]
    }
   ],
   "source": [
    "import numpy as np\n",
    "# Create an array\n",
    "x = np.array([[1, 2, 3], [4, 5, 6]])\n",
    "#print(\"x:\\n{}\".format(x))\n",
    "print(x)"
   ]
  },
  {
   "cell_type": "code",
   "execution_count": 32,
   "id": "90325629-3295-4dac-b53c-9b54becfd339",
   "metadata": {},
   "outputs": [
    {
     "name": "stdout",
     "output_type": "stream",
     "text": [
      "x:\n",
      "[[1 2 3]\n",
      " [4 5 6]]\n"
     ]
    }
   ],
   "source": [
    "import numpy as np\n",
    "\n",
    "# Create an array\n",
    "x = np.array([[1, 2, 3], [4, 5, 6]])\n",
    "print(\"x:\\n{}\".format(x))\n"
   ]
  },
  {
   "cell_type": "code",
   "execution_count": 34,
   "id": "0e9800f2-f575-4e23-94e1-4451dd810143",
   "metadata": {},
   "outputs": [
    {
     "name": "stdout",
     "output_type": "stream",
     "text": [
      "[[0. 0.]\n",
      " [0. 0.]]\n"
     ]
    }
   ],
   "source": [
    "a = np.zeros((2,2))\n",
    "print (a)"
   ]
  },
  {
   "cell_type": "code",
   "execution_count": null,
   "id": "99235cd5-3b36-4729-a3a0-2a1d462d73c5",
   "metadata": {},
   "outputs": [],
   "source": []
  }
 ],
 "metadata": {
  "kernelspec": {
   "display_name": "Python 3 (ipykernel)",
   "language": "python",
   "name": "python3"
  },
  "language_info": {
   "codemirror_mode": {
    "name": "ipython",
    "version": 3
   },
   "file_extension": ".py",
   "mimetype": "text/x-python",
   "name": "python",
   "nbconvert_exporter": "python",
   "pygments_lexer": "ipython3",
   "version": "3.12.2"
  }
 },
 "nbformat": 4,
 "nbformat_minor": 5
}
